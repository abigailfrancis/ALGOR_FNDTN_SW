{
 "cells": [
  {
   "cell_type": "code",
   "execution_count": 72,
   "metadata": {},
   "outputs": [],
   "source": [
    "import random\n",
    "import math\n",
    "import numpy as np\n",
    "import matplotlib.pyplot as plt\n",
    "import pandas as pd"
   ]
  },
  {
   "cell_type": "code",
   "execution_count": 198,
   "metadata": {},
   "outputs": [],
   "source": [
    "tlb = pd.read_csv('tlb.csv')\n",
    "memory = pd.read_csv('Memory_Sections.csv')"
   ]
  },
  {
   "cell_type": "code",
   "execution_count": 199,
   "metadata": {},
   "outputs": [
    {
     "data": {
      "text/plain": [
       "Index(['Name', 'Memory Type', 'Min Size', 'Size in KB', 'Start Address'], dtype='object')"
      ]
     },
     "execution_count": 199,
     "metadata": {},
     "output_type": "execute_result"
    }
   ],
   "source": [
    "tlb.columns"
   ]
  },
  {
   "cell_type": "code",
   "execution_count": 200,
   "metadata": {},
   "outputs": [
    {
     "data": {
      "text/html": [
       "<div>\n",
       "<style scoped>\n",
       "    .dataframe tbody tr th:only-of-type {\n",
       "        vertical-align: middle;\n",
       "    }\n",
       "\n",
       "    .dataframe tbody tr th {\n",
       "        vertical-align: top;\n",
       "    }\n",
       "\n",
       "    .dataframe thead th {\n",
       "        text-align: right;\n",
       "    }\n",
       "</style>\n",
       "<table border=\"1\" class=\"dataframe\">\n",
       "  <thead>\n",
       "    <tr style=\"text-align: right;\">\n",
       "      <th></th>\n",
       "      <th>Name</th>\n",
       "      <th>TLB</th>\n",
       "      <th>Size</th>\n",
       "      <th>Alignment</th>\n",
       "      <th>Start Address</th>\n",
       "    </tr>\n",
       "  </thead>\n",
       "  <tbody>\n",
       "    <tr>\n",
       "      <th>0</th>\n",
       "      <td>Mem1</td>\n",
       "      <td>DDR1</td>\n",
       "      <td>3</td>\n",
       "      <td>0</td>\n",
       "      <td>NaN</td>\n",
       "    </tr>\n",
       "    <tr>\n",
       "      <th>1</th>\n",
       "      <td>Mem1</td>\n",
       "      <td>DDR1</td>\n",
       "      <td>4</td>\n",
       "      <td>0</td>\n",
       "      <td>NaN</td>\n",
       "    </tr>\n",
       "    <tr>\n",
       "      <th>2</th>\n",
       "      <td>Mem1</td>\n",
       "      <td>DDR1</td>\n",
       "      <td>5</td>\n",
       "      <td>0</td>\n",
       "      <td>NaN</td>\n",
       "    </tr>\n",
       "    <tr>\n",
       "      <th>3</th>\n",
       "      <td>Mem1</td>\n",
       "      <td>DDR1</td>\n",
       "      <td>1</td>\n",
       "      <td>0</td>\n",
       "      <td>NaN</td>\n",
       "    </tr>\n",
       "    <tr>\n",
       "      <th>4</th>\n",
       "      <td>Mem1</td>\n",
       "      <td>DDR1</td>\n",
       "      <td>2</td>\n",
       "      <td>0</td>\n",
       "      <td>NaN</td>\n",
       "    </tr>\n",
       "    <tr>\n",
       "      <th>5</th>\n",
       "      <td>Mem1</td>\n",
       "      <td>DDR1</td>\n",
       "      <td>2</td>\n",
       "      <td>0</td>\n",
       "      <td>NaN</td>\n",
       "    </tr>\n",
       "  </tbody>\n",
       "</table>\n",
       "</div>"
      ],
      "text/plain": [
       "   Name   TLB  Size  Alignment  Start Address\n",
       "0  Mem1  DDR1     3          0            NaN\n",
       "1  Mem1  DDR1     4          0            NaN\n",
       "2  Mem1  DDR1     5          0            NaN\n",
       "3  Mem1  DDR1     1          0            NaN\n",
       "4  Mem1  DDR1     2          0            NaN\n",
       "5  Mem1  DDR1     2          0            NaN"
      ]
     },
     "execution_count": 200,
     "metadata": {},
     "output_type": "execute_result"
    }
   ],
   "source": [
    "memory"
   ]
  },
  {
   "cell_type": "code",
   "execution_count": 208,
   "metadata": {},
   "outputs": [],
   "source": [
    "# merge function\n",
    "def Merge(a, b):\n",
    "    c = pd.DataFrame(columns = memory.columns)\n",
    "    while((len(a)!= 0) and (len(b) != 0)):\n",
    "        print(\"B Size: \", b.loc[b.first_valid_index()]['Size'])\n",
    "        print(\"A Size: \", a.loc[a.first_valid_index()]['Size'])\n",
    "        if (b.loc[b.first_valid_index()]['Size'] > a.loc[a.first_valid_index()]['Size']):\n",
    "            #add b[0] to the end of c\n",
    "            c = c.append(b.loc[b.first_valid_index()])\n",
    "            print(\"Added: \", c.loc[c.last_valid_index()]['Size'])\n",
    "            #remove b[0] from b\n",
    "            b = b.drop(b.first_valid_index())   \n",
    "        else:\n",
    "            # add a[0] to the end of c\n",
    "            c = c.append(a.loc[a.first_valid_index()])\n",
    "            print(\"Added: \", c.loc[c.last_valid_index()]['Size'])\n",
    "            #rmeove a[0] from a\n",
    "            a = a.drop(a.first_valid_index())\n",
    " \n",
    "    while (len(a) != 0):     \n",
    "        # add a[0] to the end of c\n",
    "            c = c.append(a.loc[a.first_valid_index()])\n",
    "            print(\"Added: \", c.loc[c.last_valid_index()]['Size'])\n",
    "            #rmeove a[0] from a\n",
    "            a = a.drop(a.first_valid_index()) \n",
    "    while (len(b) != 0):     \n",
    "        # add b[0] to the end of c\n",
    "            c = c.append(b.loc[b.first_valid_index()])\n",
    "            print(\"Added: \", c.loc[c.last_valid_index()]['Size'])\n",
    "            #rmeove a[0] from a\n",
    "            b = b.drop(b.first_valid_index())  \n",
    "    return c"
   ]
  },
  {
   "cell_type": "code",
   "execution_count": 133,
   "metadata": {},
   "outputs": [],
   "source": [
    "def MergeSort(mem):\n",
    "    n = len(mem)\n",
    "    if ( n == 1 ): return mem\n",
    "    \n",
    "    l1 = mem[0:math.floor(n/2)]\n",
    "    l2 = mem[math.floor(n/2)+1 : n]\n",
    "\n",
    "    l1 = MergeSort( l1 )\n",
    "    l2 = MergeSort( l2 )\n",
    "\n",
    "    return merge( l1, l2 )"
   ]
  },
  {
   "cell_type": "code",
   "execution_count": 201,
   "metadata": {},
   "outputs": [
    {
     "name": "stdout",
     "output_type": "stream",
     "text": [
      "   Name   TLB  Size  Alignment  Start Address\n",
      "0  Mem1  DDR1     3          0            NaN\n",
      "1  Mem1  DDR1     4          0            NaN\n",
      "2  Mem1  DDR1     5          0            NaN\n",
      "3  Mem1  DDR1     1          0            NaN\n",
      "4  Mem1  DDR1     2          0            NaN\n",
      "5  Mem1  DDR1     2          0            NaN\n",
      "6\n",
      "   Name   TLB  Size  Alignment  Start Address\n",
      "0  Mem1  DDR1     3          0            NaN\n",
      "1  Mem1  DDR1     4          0            NaN\n",
      "2  Mem1  DDR1     5          0            NaN\n",
      "   Name   TLB  Size  Alignment  Start Address\n",
      "3  Mem1  DDR1     1          0            NaN\n",
      "4  Mem1  DDR1     2          0            NaN\n",
      "5  Mem1  DDR1     2          0            NaN\n"
     ]
    }
   ],
   "source": [
    "mem = memory\n",
    "print(memory)\n",
    "n = len(mem)\n",
    "print(n)\n",
    "l1 = mem[0:math.floor(n/2)]\n",
    "print(l1)\n",
    "\n",
    "l2 = mem[math.floor(n/2) : n]\n",
    "print(l2)\n",
    "#print(l2)"
   ]
  },
  {
   "cell_type": "code",
   "execution_count": 165,
   "metadata": {},
   "outputs": [
    {
     "name": "stdout",
     "output_type": "stream",
     "text": [
      "Name             Mem1\n",
      "TLB              DDR1\n",
      "Size                3\n",
      "Alignment           0\n",
      "Start Address     NaN\n",
      "Name: 0, dtype: object\n"
     ]
    },
    {
     "data": {
      "text/plain": [
       "True"
      ]
     },
     "execution_count": 165,
     "metadata": {},
     "output_type": "execute_result"
    }
   ],
   "source": [
    "test = mem\n",
    "print(test.loc[test.first_valid_index()])\n",
    "isinstance(pd.DataFrame(test.loc[test.first_valid_index()]), pd.DataFrame)"
   ]
  },
  {
   "cell_type": "code",
   "execution_count": 209,
   "metadata": {
    "scrolled": false
   },
   "outputs": [
    {
     "name": "stdout",
     "output_type": "stream",
     "text": [
      "   Name   TLB  Size  Alignment  Start Address\n",
      "0  Mem1  DDR1     3          0            NaN\n",
      "1  Mem1  DDR1     4          0            NaN\n",
      "2  Mem1  DDR1     5          0            NaN\n",
      "   Name   TLB  Size  Alignment  Start Address\n",
      "3  Mem1  DDR1     1          0            NaN\n",
      "4  Mem1  DDR1     2          0            NaN\n",
      "5  Mem1  DDR1     2          0            NaN\n",
      "*******************************\n",
      "B Size:  1\n",
      "A Size:  3\n",
      "Added:  3\n",
      "B Size:  1\n",
      "A Size:  4\n",
      "Added:  4\n",
      "B Size:  1\n",
      "A Size:  5\n",
      "Added:  5\n",
      "Added:  1\n",
      "Added:  2\n",
      "Added:  2\n"
     ]
    },
    {
     "data": {
      "text/html": [
       "<div>\n",
       "<style scoped>\n",
       "    .dataframe tbody tr th:only-of-type {\n",
       "        vertical-align: middle;\n",
       "    }\n",
       "\n",
       "    .dataframe tbody tr th {\n",
       "        vertical-align: top;\n",
       "    }\n",
       "\n",
       "    .dataframe thead th {\n",
       "        text-align: right;\n",
       "    }\n",
       "</style>\n",
       "<table border=\"1\" class=\"dataframe\">\n",
       "  <thead>\n",
       "    <tr style=\"text-align: right;\">\n",
       "      <th></th>\n",
       "      <th>Name</th>\n",
       "      <th>TLB</th>\n",
       "      <th>Size</th>\n",
       "      <th>Alignment</th>\n",
       "      <th>Start Address</th>\n",
       "    </tr>\n",
       "  </thead>\n",
       "  <tbody>\n",
       "    <tr>\n",
       "      <th>0</th>\n",
       "      <td>Mem1</td>\n",
       "      <td>DDR1</td>\n",
       "      <td>3</td>\n",
       "      <td>0</td>\n",
       "      <td>NaN</td>\n",
       "    </tr>\n",
       "    <tr>\n",
       "      <th>1</th>\n",
       "      <td>Mem1</td>\n",
       "      <td>DDR1</td>\n",
       "      <td>4</td>\n",
       "      <td>0</td>\n",
       "      <td>NaN</td>\n",
       "    </tr>\n",
       "    <tr>\n",
       "      <th>2</th>\n",
       "      <td>Mem1</td>\n",
       "      <td>DDR1</td>\n",
       "      <td>5</td>\n",
       "      <td>0</td>\n",
       "      <td>NaN</td>\n",
       "    </tr>\n",
       "    <tr>\n",
       "      <th>3</th>\n",
       "      <td>Mem1</td>\n",
       "      <td>DDR1</td>\n",
       "      <td>1</td>\n",
       "      <td>0</td>\n",
       "      <td>NaN</td>\n",
       "    </tr>\n",
       "    <tr>\n",
       "      <th>4</th>\n",
       "      <td>Mem1</td>\n",
       "      <td>DDR1</td>\n",
       "      <td>2</td>\n",
       "      <td>0</td>\n",
       "      <td>NaN</td>\n",
       "    </tr>\n",
       "    <tr>\n",
       "      <th>5</th>\n",
       "      <td>Mem1</td>\n",
       "      <td>DDR1</td>\n",
       "      <td>2</td>\n",
       "      <td>0</td>\n",
       "      <td>NaN</td>\n",
       "    </tr>\n",
       "  </tbody>\n",
       "</table>\n",
       "</div>"
      ],
      "text/plain": [
       "   Name   TLB Size Alignment Start Address\n",
       "0  Mem1  DDR1    3         0           NaN\n",
       "1  Mem1  DDR1    4         0           NaN\n",
       "2  Mem1  DDR1    5         0           NaN\n",
       "3  Mem1  DDR1    1         0           NaN\n",
       "4  Mem1  DDR1    2         0           NaN\n",
       "5  Mem1  DDR1    2         0           NaN"
      ]
     },
     "metadata": {},
     "output_type": "display_data"
    }
   ],
   "source": [
    "print(l1)\n",
    "print(l2)\n",
    "print(\"*******************************\")\n",
    "C = Merge(l1,l2)\n",
    "display(C)"
   ]
  },
  {
   "cell_type": "code",
   "execution_count": null,
   "metadata": {},
   "outputs": [],
   "source": []
  }
 ],
 "metadata": {
  "kernelspec": {
   "display_name": "Python 3",
   "language": "python",
   "name": "python3"
  },
  "language_info": {
   "codemirror_mode": {
    "name": "ipython",
    "version": 3
   },
   "file_extension": ".py",
   "mimetype": "text/x-python",
   "name": "python",
   "nbconvert_exporter": "python",
   "pygments_lexer": "ipython3",
   "version": "3.7.3"
  }
 },
 "nbformat": 4,
 "nbformat_minor": 2
}
