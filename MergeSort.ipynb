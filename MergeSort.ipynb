{
 "cells": [
  {
   "cell_type": "code",
   "execution_count": 72,
   "metadata": {},
   "outputs": [],
   "source": [
    "import random\n",
    "import math\n",
    "import numpy as np\n",
    "import matplotlib.pyplot as plt\n",
    "import pandas as pd"
   ]
  },
  {
   "cell_type": "code",
   "execution_count": 314,
   "metadata": {},
   "outputs": [],
   "source": [
    "NUM_ALIGNMENTS = 7 #number of alignment values (0,4,16,64,256,1024,4096)\n",
    "tlb = pd.read_csv('tlb.csv')\n",
    "memory = pd.read_csv('Memory_Sections.csv')"
   ]
  },
  {
   "cell_type": "code",
   "execution_count": 199,
   "metadata": {},
   "outputs": [
    {
     "data": {
      "text/plain": [
       "Index(['Name', 'Memory Type', 'Min Size', 'Size in KB', 'Start Address'], dtype='object')"
      ]
     },
     "execution_count": 199,
     "metadata": {},
     "output_type": "execute_result"
    }
   ],
   "source": [
    "tlb.columns"
   ]
  },
  {
   "cell_type": "code",
   "execution_count": 200,
   "metadata": {},
   "outputs": [
    {
     "data": {
      "text/html": [
       "<div>\n",
       "<style scoped>\n",
       "    .dataframe tbody tr th:only-of-type {\n",
       "        vertical-align: middle;\n",
       "    }\n",
       "\n",
       "    .dataframe tbody tr th {\n",
       "        vertical-align: top;\n",
       "    }\n",
       "\n",
       "    .dataframe thead th {\n",
       "        text-align: right;\n",
       "    }\n",
       "</style>\n",
       "<table border=\"1\" class=\"dataframe\">\n",
       "  <thead>\n",
       "    <tr style=\"text-align: right;\">\n",
       "      <th></th>\n",
       "      <th>Name</th>\n",
       "      <th>TLB</th>\n",
       "      <th>Size</th>\n",
       "      <th>Alignment</th>\n",
       "      <th>Start Address</th>\n",
       "    </tr>\n",
       "  </thead>\n",
       "  <tbody>\n",
       "    <tr>\n",
       "      <th>0</th>\n",
       "      <td>Mem1</td>\n",
       "      <td>DDR1</td>\n",
       "      <td>3</td>\n",
       "      <td>0</td>\n",
       "      <td>NaN</td>\n",
       "    </tr>\n",
       "    <tr>\n",
       "      <th>1</th>\n",
       "      <td>Mem1</td>\n",
       "      <td>DDR1</td>\n",
       "      <td>4</td>\n",
       "      <td>0</td>\n",
       "      <td>NaN</td>\n",
       "    </tr>\n",
       "    <tr>\n",
       "      <th>2</th>\n",
       "      <td>Mem1</td>\n",
       "      <td>DDR1</td>\n",
       "      <td>5</td>\n",
       "      <td>0</td>\n",
       "      <td>NaN</td>\n",
       "    </tr>\n",
       "    <tr>\n",
       "      <th>3</th>\n",
       "      <td>Mem1</td>\n",
       "      <td>DDR1</td>\n",
       "      <td>1</td>\n",
       "      <td>0</td>\n",
       "      <td>NaN</td>\n",
       "    </tr>\n",
       "    <tr>\n",
       "      <th>4</th>\n",
       "      <td>Mem1</td>\n",
       "      <td>DDR1</td>\n",
       "      <td>2</td>\n",
       "      <td>0</td>\n",
       "      <td>NaN</td>\n",
       "    </tr>\n",
       "    <tr>\n",
       "      <th>5</th>\n",
       "      <td>Mem1</td>\n",
       "      <td>DDR1</td>\n",
       "      <td>2</td>\n",
       "      <td>0</td>\n",
       "      <td>NaN</td>\n",
       "    </tr>\n",
       "  </tbody>\n",
       "</table>\n",
       "</div>"
      ],
      "text/plain": [
       "   Name   TLB  Size  Alignment  Start Address\n",
       "0  Mem1  DDR1     3          0            NaN\n",
       "1  Mem1  DDR1     4          0            NaN\n",
       "2  Mem1  DDR1     5          0            NaN\n",
       "3  Mem1  DDR1     1          0            NaN\n",
       "4  Mem1  DDR1     2          0            NaN\n",
       "5  Mem1  DDR1     2          0            NaN"
      ]
     },
     "execution_count": 200,
     "metadata": {},
     "output_type": "execute_result"
    }
   ],
   "source": [
    "memory"
   ]
  },
  {
   "cell_type": "code",
   "execution_count": 219,
   "metadata": {},
   "outputs": [],
   "source": [
    "# merge function\n",
    "def Merge(a, b, order):\n",
    "    c = pd.DataFrame(columns = memory.columns)\n",
    "    while((len(a)!= 0) and (len(b) != 0)):\n",
    "        print(\"B Size: \", b.loc[b.first_valid_index()][order])\n",
    "        print(\"A Size: \", a.loc[a.first_valid_index()][order])\n",
    "        if (b.loc[b.first_valid_index()][order] > a.loc[a.first_valid_index()][order]):\n",
    "            #add b[0] to the end of c\n",
    "            c = c.append(b.loc[b.first_valid_index()])\n",
    "            print(\"Added: \", c.loc[c.last_valid_index()][order])\n",
    "            #remove b[0] from b\n",
    "            b = b.drop(b.first_valid_index())   \n",
    "        else:\n",
    "            # add a[0] to the end of c\n",
    "            c = c.append(a.loc[a.first_valid_index()])\n",
    "            print(\"Added: \", c.loc[c.last_valid_index()][order])\n",
    "            #rmeove a[0] from a\n",
    "            a = a.drop(a.first_valid_index())\n",
    " \n",
    "    while (len(a) != 0):     \n",
    "        # add a[0] to the end of c\n",
    "            c = c.append(a.loc[a.first_valid_index()])\n",
    "            print(\"Added: \", c.loc[c.last_valid_index()][order])\n",
    "            #rmeove a[0] from a\n",
    "            a = a.drop(a.first_valid_index()) \n",
    "    while (len(b) != 0):     \n",
    "        # add b[0] to the end of c\n",
    "            c = c.append(b.loc[b.first_valid_index()])\n",
    "            print(\"Added: \", c.loc[c.last_valid_index()][order])\n",
    "            #rmeove a[0] from a\n",
    "            b = b.drop(b.first_valid_index())  \n",
    "    return c"
   ]
  },
  {
   "cell_type": "code",
   "execution_count": 223,
   "metadata": {},
   "outputs": [],
   "source": [
    "def MergeSort(mem, order):\n",
    "    n = len(mem)\n",
    "    if ( n == 1 ): return mem\n",
    "    \n",
    "    l1 = mem[0:math.floor(n/2)]\n",
    "    l2 = mem[math.floor(n/2) : n]\n",
    "\n",
    "    l1 = MergeSort( l1, order )\n",
    "    l2 = MergeSort( l2, order )\n",
    "\n",
    "    return Merge( l1, l2, order )"
   ]
  },
  {
   "cell_type": "code",
   "execution_count": 269,
   "metadata": {},
   "outputs": [],
   "source": [
    "from numpy import roots\n",
    "# merge function\n",
    "def Merge_Alignment(a, b, order):\n",
    "    # 4,16,64,256,1024,4096\n",
    "    alignment_cnt = [0,0,0,0,0,0,0]\n",
    "    c = pd.DataFrame(columns = memory.columns)\n",
    "    while((len(a)!= 0) and (len(b) != 0)):\n",
    "        print(\"B Size: \", b.loc[b.first_valid_index()][order])\n",
    "        print(\"A Size: \", a.loc[a.first_valid_index()][order])\n",
    "        if (b.loc[b.first_valid_index()][order] > a.loc[a.first_valid_index()][order]):\n",
    "            #add b[0] to the end of c\n",
    "            c = c.append(b.loc[b.first_valid_index()])\n",
    "            alignment_cnt[int(math.log(c.loc[c.last_valid_index()][order], 4))]+=1\n",
    "            print(\"Added: \", c.loc[c.last_valid_index()][order])\n",
    "            #remove b[0] from b\n",
    "            b = b.drop(b.first_valid_index())   \n",
    "        else:\n",
    "            # add a[0] to the end of c\n",
    "            c = c.append(a.loc[a.first_valid_index()])\n",
    "            alignment_cnt[int(math.log(c.loc[c.last_valid_index()][order], 4))]+=1\n",
    "            print(\"Added: \", c.loc[c.last_valid_index()][order])\n",
    "            #rmeove a[0] from a\n",
    "            a = a.drop(a.first_valid_index())\n",
    " \n",
    "    while (len(a) != 0):     \n",
    "        # add a[0] to the end of c\n",
    "            c = c.append(a.loc[a.first_valid_index()])\n",
    "            alignment_cnt[int(math.log(c.loc[c.last_valid_index()][order], 4))]+=1\n",
    "            print(\"Added: \", c.loc[c.last_valid_index()][order])\n",
    "            #rmeove a[0] from a\n",
    "            a = a.drop(a.first_valid_index()) \n",
    "    while (len(b) != 0):     \n",
    "        # add b[0] to the end of c\n",
    "            c = c.append(b.loc[b.first_valid_index()])\n",
    "            alignment_cnt[int(math.log(c.loc[c.last_valid_index()][order], 4))]+=1\n",
    "            print(\"Added: \", c.loc[c.last_valid_index()][order])\n",
    "            #rmeove a[0] from a\n",
    "            b = b.drop(b.first_valid_index())  \n",
    "    \n",
    "    return c, alignment_cnt"
   ]
  },
  {
   "cell_type": "code",
   "execution_count": 237,
   "metadata": {},
   "outputs": [],
   "source": [
    "def MergeSort_Alignment(mem):\n",
    "    n = len(mem)\n",
    "    if ( n == 1 ): return mem\n",
    "    \n",
    "    l1 = mem[0:math.floor(n/2)]\n",
    "    l2 = mem[math.floor(n/2) : n]\n",
    "\n",
    "    l1 = MergeSort( l1, 'Alignment' )\n",
    "    l2 = MergeSort( l2, 'Alignment' )\n",
    "\n",
    "    return Merge_Alignment( l1, l2, 'Alignment' )"
   ]
  },
  {
   "cell_type": "code",
   "execution_count": 271,
   "metadata": {},
   "outputs": [
    {
     "name": "stdout",
     "output_type": "stream",
     "text": [
      "B Size:  256\n",
      "A Size:  256\n",
      "Added:  256\n",
      "Added:  256\n",
      "B Size:  256\n",
      "A Size:  4\n",
      "Added:  256\n",
      "B Size:  256\n",
      "A Size:  4\n",
      "Added:  256\n",
      "Added:  4\n",
      "B Size:  4\n",
      "A Size:  4096\n",
      "Added:  4096\n",
      "Added:  4\n",
      "B Size:  4096\n",
      "A Size:  1024\n",
      "Added:  4096\n",
      "B Size:  4\n",
      "A Size:  1024\n",
      "Added:  1024\n",
      "Added:  4\n",
      "B Size:  4096\n",
      "A Size:  256\n",
      "Added:  4096\n",
      "B Size:  1024\n",
      "A Size:  256\n",
      "Added:  1024\n",
      "B Size:  4\n",
      "A Size:  256\n",
      "Added:  256\n",
      "B Size:  4\n",
      "A Size:  256\n",
      "Added:  256\n",
      "B Size:  4\n",
      "A Size:  4\n",
      "Added:  4\n",
      "Added:  4\n",
      "   Name   TLB Size Alignment Start Address\n",
      "4  Mem1  DDR1    2      4096           NaN\n",
      "3  Mem1  DDR1    1      1024           NaN\n",
      "1  Mem1  DDR1    4       256           NaN\n",
      "2  Mem1  DDR1    5       256           NaN\n",
      "0  Mem1  DDR1    3         4           NaN\n",
      "5  Mem1  DDR1    2         4           NaN [0, 2, 0, 0, 2, 1, 1]\n"
     ]
    }
   ],
   "source": [
    "#mergeSort on alignment\n",
    "c, alignment_cnt = MergeSort_Alignment(memory)\n",
    "print(c, alignment_cnt)"
   ]
  },
  {
   "cell_type": "code",
   "execution_count": 287,
   "metadata": {},
   "outputs": [
    {
     "ename": "AttributeError",
     "evalue": "'list' object has no attribute 'length'",
     "output_type": "error",
     "traceback": [
      "\u001b[1;31m---------------------------------------------------------------------------\u001b[0m",
      "\u001b[1;31mAttributeError\u001b[0m                            Traceback (most recent call last)",
      "\u001b[1;32m<ipython-input-287-c4a32cd419e5>\u001b[0m in \u001b[0;36m<module>\u001b[1;34m\u001b[0m\n\u001b[0;32m      9\u001b[0m \u001b[1;33m\u001b[0m\u001b[0m\n\u001b[0;32m     10\u001b[0m \u001b[0mAlignmentLists\u001b[0m \u001b[1;33m=\u001b[0m \u001b[1;33m[\u001b[0m\u001b[0mdf0\u001b[0m\u001b[1;33m,\u001b[0m\u001b[0mdf1\u001b[0m\u001b[1;33m,\u001b[0m\u001b[0mdf2\u001b[0m\u001b[1;33m,\u001b[0m\u001b[0mdf3\u001b[0m\u001b[1;33m,\u001b[0m\u001b[0mdf4\u001b[0m\u001b[1;33m,\u001b[0m\u001b[0mdf5\u001b[0m\u001b[1;33m,\u001b[0m\u001b[0mdf6\u001b[0m\u001b[1;33m]\u001b[0m\u001b[1;33m\u001b[0m\u001b[1;33m\u001b[0m\u001b[0m\n\u001b[1;32m---> 11\u001b[1;33m \u001b[0mAlignmentLists\u001b[0m\u001b[1;33m.\u001b[0m\u001b[0mlength\u001b[0m\u001b[1;33m(\u001b[0m\u001b[1;33m)\u001b[0m\u001b[1;33m\u001b[0m\u001b[1;33m\u001b[0m\u001b[0m\n\u001b[0m",
      "\u001b[1;31mAttributeError\u001b[0m: 'list' object has no attribute 'length'"
     ]
    }
   ],
   "source": [
    "#create a list of aligment organized arrays\n",
    "df0 = pd.DataFrame(columns = memory.columns)\n",
    "df1 = pd.DataFrame(columns = memory.columns)\n",
    "df2 = pd.DataFrame(columns = memory.columns)\n",
    "df3 = pd.DataFrame(columns = memory.columns)\n",
    "df4 = pd.DataFrame(columns = memory.columns)\n",
    "df5 = pd.DataFrame(columns = memory.columns)\n",
    "df6 = pd.DataFrame(columns = memory.columns)\n",
    "\n",
    "AlignmentLists = [df0,df1,df2,df3,df4,df5,df6]\n"
   ]
  },
  {
   "cell_type": "code",
   "execution_count": 316,
   "metadata": {},
   "outputs": [],
   "source": [
    "#split into data frames by alignment\n",
    "first = 0\n",
    "for i in range (NUM_ALIGNMENTS):\n",
    "    AlignmentLists[NUM_ALIGNMENTS-1-i] = c[first:first+alignment_cnt[NUM_ALIGNMENTS-1-i]]\n",
    "    first = first + alignment_cnt[NUM_ALIGNMENTS-1-i]\n",
    "    "
   ]
  },
  {
   "cell_type": "code",
   "execution_count": 317,
   "metadata": {},
   "outputs": [
    {
     "name": "stdout",
     "output_type": "stream",
     "text": [
      "[0, 2, 0, 0, 2, 1, 1]\n",
      "Empty DataFrame\n",
      "Columns: [Name, TLB, Size, Alignment, Start Address]\n",
      "Index: [] \n",
      "\n",
      "   Name   TLB Size Alignment Start Address\n",
      "0  Mem1  DDR1    3         4           NaN\n",
      "5  Mem1  DDR1    2         4           NaN \n",
      "\n",
      "Empty DataFrame\n",
      "Columns: [Name, TLB, Size, Alignment, Start Address]\n",
      "Index: [] \n",
      "\n",
      "Empty DataFrame\n",
      "Columns: [Name, TLB, Size, Alignment, Start Address]\n",
      "Index: [] \n",
      "\n",
      "   Name   TLB Size Alignment Start Address\n",
      "1  Mem1  DDR1    4       256           NaN\n",
      "2  Mem1  DDR1    5       256           NaN \n",
      "\n",
      "   Name   TLB Size Alignment Start Address\n",
      "3  Mem1  DDR1    1      1024           NaN \n",
      "\n",
      "   Name   TLB Size Alignment Start Address\n",
      "4  Mem1  DDR1    2      4096           NaN \n",
      "\n"
     ]
    }
   ],
   "source": [
    "print(alignment_cnt)\n",
    "print(AlignmentLists[0], \"\\n\")\n",
    "print(AlignmentLists[1], \"\\n\")\n",
    "print(AlignmentLists[2], \"\\n\")\n",
    "print(AlignmentLists[3], \"\\n\")\n",
    "print(AlignmentLists[4], \"\\n\")\n",
    "print(AlignmentLists[5], \"\\n\")\n",
    "print(AlignmentLists[6], \"\\n\")"
   ]
  },
  {
   "cell_type": "code",
   "execution_count": 318,
   "metadata": {},
   "outputs": [
    {
     "name": "stdout",
     "output_type": "stream",
     "text": [
      "B Size:  2\n",
      "A Size:  3\n",
      "Added:  3\n",
      "Added:  2\n",
      "B Size:  5\n",
      "A Size:  4\n",
      "Added:  5\n",
      "Added:  4\n"
     ]
    }
   ],
   "source": [
    "#sort each alignment df by size in decending order\n",
    "order = 'Size'\n",
    "for i in range (NUM_ALIGNMENTS):\n",
    "    if(len(AlignmentLists[i])>1):\n",
    "        AlignmentLists[i] = MergeSort(AlignmentLists[i], order)\n",
    "        "
   ]
  },
  {
   "cell_type": "code",
   "execution_count": 320,
   "metadata": {},
   "outputs": [
    {
     "ename": "IndexError",
     "evalue": "list index out of range",
     "output_type": "error",
     "traceback": [
      "\u001b[1;31m---------------------------------------------------------------------------\u001b[0m",
      "\u001b[1;31mIndexError\u001b[0m                                Traceback (most recent call last)",
      "\u001b[1;32m<ipython-input-320-3aa165288f1a>\u001b[0m in \u001b[0;36m<module>\u001b[1;34m\u001b[0m\n\u001b[0;32m      1\u001b[0m \u001b[1;31m#assign start addresses starting from largest to smallest and merge\u001b[0m\u001b[1;33m\u001b[0m\u001b[1;33m\u001b[0m\u001b[1;33m\u001b[0m\u001b[0m\n\u001b[0;32m      2\u001b[0m \u001b[0mi\u001b[0m \u001b[1;33m=\u001b[0m \u001b[1;36m0\u001b[0m\u001b[1;33m\u001b[0m\u001b[1;33m\u001b[0m\u001b[0m\n\u001b[1;32m----> 3\u001b[1;33m \u001b[1;32mwhile\u001b[0m\u001b[1;33m(\u001b[0m\u001b[0mi\u001b[0m \u001b[1;33m<\u001b[0m \u001b[0mNUM_ALIGNMENTS\u001b[0m \u001b[1;32mand\u001b[0m \u001b[0mlen\u001b[0m\u001b[1;33m(\u001b[0m\u001b[0mAlignmentLists\u001b[0m\u001b[1;33m[\u001b[0m\u001b[0mNUM_ALIGNMENTS\u001b[0m\u001b[1;33m-\u001b[0m\u001b[0mi\u001b[0m\u001b[1;33m]\u001b[0m\u001b[1;33m)\u001b[0m\u001b[1;33m==\u001b[0m\u001b[1;36m0\u001b[0m\u001b[1;33m)\u001b[0m\u001b[1;33m:\u001b[0m\u001b[1;33m\u001b[0m\u001b[1;33m\u001b[0m\u001b[0m\n\u001b[0m\u001b[0;32m      4\u001b[0m     \u001b[0mi\u001b[0m\u001b[1;33m+=\u001b[0m\u001b[1;36m1\u001b[0m\u001b[1;33m\u001b[0m\u001b[1;33m\u001b[0m\u001b[0m\n\u001b[0;32m      5\u001b[0m \u001b[1;32mfor\u001b[0m \u001b[0mj\u001b[0m \u001b[1;32min\u001b[0m \u001b[0mrange\u001b[0m\u001b[1;33m(\u001b[0m\u001b[0mlen\u001b[0m\u001b[1;33m(\u001b[0m\u001b[0mAlignmentLists\u001b[0m\u001b[1;33m[\u001b[0m\u001b[0mNUM_ALIGNMENTS\u001b[0m\u001b[1;33m-\u001b[0m\u001b[0mi\u001b[0m\u001b[1;33m]\u001b[0m\u001b[1;33m)\u001b[0m\u001b[1;33m)\u001b[0m\u001b[1;33m:\u001b[0m\u001b[1;33m\u001b[0m\u001b[1;33m\u001b[0m\u001b[0m\n",
      "\u001b[1;31mIndexError\u001b[0m: list index out of range"
     ]
    }
   ],
   "source": [
    "#assign start addresses starting from largest to smallest and merge\n",
    "i = 0\n",
    "while(i < NUM_ALIGNMENTS and len(AlignmentLists[NUM_ALIGNMENTS-i])==0): \n",
    "    i+=1\n",
    "for i in range (NUM_ALIGNMENTS):\n",
    "    if (len(AlignmentLists[NUM_ALIGNMENTS-i])!=0):\n",
    "        break\n",
    "for j in range(len(AlignmentLists[NUM_ALIGNMENTS-i])):\n",
    "    AlignmentLists[NUM_ALIGNMENTS-i].loc[j]['Start Address'] = getNextStartAddress(AlignmentLists[NUM_ALIGNMENTS-i],j)"
   ]
  },
  {
   "cell_type": "code",
   "execution_count": null,
   "metadata": {},
   "outputs": [],
   "source": [
    "#getNextMinAddress returns the next min address possible for the specified entry i in the current Align List\n",
    "def getNextStartAddress(AlignList, i):\n",
    "    if(i==0):\n",
    "        #assign address to min TLB value, for now use 0\n",
    "        StartAddress = 0 \n",
    "    else:\n",
    "        min_address = (AlignList.loc[i-1]['Start Address'] + AlignList.loc[i-1]['Size'])\n",
    "        alignment = AlignList.loc[i]['Alignment']\n",
    "        StartAddress = (min_address + alignment) - (min_address + alignment)%alignment\n",
    "return StartAddress     \n",
    "    "
   ]
  }
 ],
 "metadata": {
  "kernelspec": {
   "display_name": "Python 3",
   "language": "python",
   "name": "python3"
  },
  "language_info": {
   "codemirror_mode": {
    "name": "ipython",
    "version": 3
   },
   "file_extension": ".py",
   "mimetype": "text/x-python",
   "name": "python",
   "nbconvert_exporter": "python",
   "pygments_lexer": "ipython3",
   "version": "3.7.3"
  }
 },
 "nbformat": 4,
 "nbformat_minor": 2
}
